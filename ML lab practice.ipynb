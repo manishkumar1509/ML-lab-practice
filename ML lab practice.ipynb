{
 "cells": [
  {
   "cell_type": "markdown",
   "metadata": {},
   "source": [
    "# 1. FIND-s"
   ]
  },
  {
   "cell_type": "code",
   "execution_count": 1,
   "metadata": {},
   "outputs": [
    {
     "name": "stdout",
     "output_type": "stream",
     "text": [
      "['%', '%', '%', '%', '%']\n",
      "['Japan', '?', '?', '?', 'Economy']\n"
     ]
    }
   ],
   "source": [
    "import csv\n",
    "lines=csv.reader(open(\"D1.csv\",encoding=\"utf8\"))\n",
    "\n",
    "data=list()\n",
    "\n",
    "for row in lines:\n",
    "    if(row[-1]=='Y'):\n",
    "        data.append(row)\n",
    "\n",
    "numrows=len(data)\n",
    "numcols=len(data[0])-1\n",
    "hypothesis= ['%' for _ in range(numcols)]\n",
    "print(hypothesis)\n",
    "\n",
    "for j in range(numcols):\n",
    "    hypothesis[j]=data[0][j]\n",
    "\n",
    "for i in range(numrows):\n",
    "    for j in range(numcols):\n",
    "        if(hypothesis[j]!=data[i][j]):\n",
    "            hypothesis[j]='?'\n",
    "print(hypothesis)\n",
    "        "
   ]
  },
  {
   "cell_type": "code",
   "execution_count": null,
   "metadata": {},
   "outputs": [],
   "source": []
  },
  {
   "cell_type": "code",
   "execution_count": null,
   "metadata": {},
   "outputs": [],
   "source": []
  },
  {
   "cell_type": "markdown",
   "metadata": {},
   "source": [
    "# 2. Candidate Elimination"
   ]
  },
  {
   "cell_type": "code",
   "execution_count": 52,
   "metadata": {},
   "outputs": [
    {
     "name": "stdout",
     "output_type": "stream",
     "text": [
      "['Japan' '?' '?' '?' 'Economy']\n",
      "[['Japan', '?', '?', '?', '?']]\n"
     ]
    }
   ],
   "source": [
    "import pandas as pd\n",
    "import numpy as np\n",
    "data=pd.DataFrame(pd.read_csv('D1.csv'))\n",
    "\n",
    "features=np.array(data.iloc[:,0:-1])\n",
    "target=np.array(data.iloc[:,-1])\n",
    "\n",
    "specific=features[0].copy()\n",
    "generic=[['?' for i in range(len(specific))] for i in range(len(specific))]\n",
    "#print(generic)\n",
    "\n",
    "for i,h in enumerate(features):\n",
    "    if target[i]=='Y':\n",
    "        for x in range(len(specific)):\n",
    "            if h[x]!=specific[x]:\n",
    "                specific[x]='?'\n",
    "                generic[x][x]='?'\n",
    "    \n",
    "    elif target[i]=='N':\n",
    "        for x in range(len(specific)):\n",
    "            if h[x]!=specific[x]:\n",
    "                generic[x][x]=specific[x]\n",
    "            else:\n",
    "                generic[x][x]='?'\n",
    "\n",
    "for i in range(4):      \n",
    "    generic.remove(['?','?','?','?','?'])\n",
    "\n",
    "print(specific)\n",
    "print(generic)"
   ]
  },
  {
   "cell_type": "code",
   "execution_count": null,
   "metadata": {},
   "outputs": [],
   "source": []
  },
  {
   "cell_type": "code",
   "execution_count": null,
   "metadata": {},
   "outputs": [],
   "source": []
  },
  {
   "cell_type": "markdown",
   "metadata": {},
   "source": [
    "# 3. ID3"
   ]
  },
  {
   "cell_type": "code",
   "execution_count": 5,
   "metadata": {},
   "outputs": [
    {
     "name": "stdout",
     "output_type": "stream",
     "text": [
      "['Outlook=Overcast => Y',\n",
      " 'Outlook=Rain ^ Wind=F => Y',\n",
      " 'Outlook=Rain ^ Wind=T => N',\n",
      " 'Outlook=Sunny ^ Humidity=High => N',\n",
      " 'Outlook=Sunny ^ Humidity=Normal => Y']\n",
      "Outlook: Rain\n",
      "Temperature: Cold\n",
      "Humidity: High\n",
      "Wind: F\n",
      "Y\n"
     ]
    }
   ],
   "source": [
    "import numpy as np\n",
    "from csv import reader\n",
    "from math import log2\n",
    "from collections import Counter\n",
    "from pprint import pprint\n",
    "\n",
    "YES, NO = \"Y\", \"N\"\n",
    "\n",
    "\n",
    "class Node:\n",
    "    def __init__(self, label):\n",
    "        self.label = label\n",
    "        self.branches = {}\n",
    "\n",
    "\n",
    "def entropy(data):\n",
    "    total, positive, negative = len(\n",
    "        data), (data[:, -1] == YES).sum(), (data[:, -1] == NO).sum()\n",
    "    entropy = 0\n",
    "    if positive:\n",
    "        entropy -= positive / total * log2(positive / total)\n",
    "    if negative:\n",
    "        entropy -= negative / total * log2(negative / total)\n",
    "    return entropy\n",
    "\n",
    "\n",
    "def gain(s, data, column):\n",
    "    values = set(data[:, column])\n",
    "    gain = s\n",
    "    for value in values:\n",
    "        sub = data[data[:, column] == value]\n",
    "        gain -= len(sub) / len(data) * entropy(sub)\n",
    "    return gain\n",
    "\n",
    "\n",
    "def bestAttribute(data):\n",
    "    s = entropy(data)\n",
    "    g = [gain(s, data, column) for column in range(len(data[0]) - 1)]\n",
    "    return g.index(max(g))\n",
    "\n",
    "\n",
    "def id3(data, labels):\n",
    "    root = Node('Null')\n",
    "    if entropy(data) == 0:\n",
    "        root.label = data[0, -1]\n",
    "    elif len(data[0]) == 1:\n",
    "        root.label = Counter(data[:, -1]).most_common()[0][0]\n",
    "    else:\n",
    "        column = bestAttribute(data)\n",
    "        root.label = labels[column]\n",
    "        values = set(data[:, column])\n",
    "        for value in values:\n",
    "            nData = np.delete(\n",
    "                data[data[:, column] == value], column, axis=1)\n",
    "            nLabels = np.delete(labels, column)\n",
    "            root.branches[value] = id3(nData, nLabels)\n",
    "    return root\n",
    "\n",
    "\n",
    "def getRules(root, rule, rules):\n",
    "    if not root.branches:\n",
    "        rules.append(rule[:-2] + \"=> \" + root.label)\n",
    "    for value, nRoot in root.branches.items():\n",
    "        getRules(nRoot, rule + root.label + \"=\" + value + \" ^ \", rules)\n",
    "\n",
    "\n",
    "def predict(tree, tup):\n",
    "    if not tree.branches:\n",
    "        return tree.label\n",
    "    return predict(tree.branches[tup[tree.label]], tup)\n",
    "\n",
    "\n",
    "labels = np.array(['Outlook', 'Temperature', 'Humidity', 'Wind', 'PlayTennis'])\n",
    "\n",
    "with open('3-dataset.csv') as f:\n",
    "    data = np.array(list(reader(f)))\n",
    "\n",
    "tree = id3(data, labels)\n",
    "rules = []\n",
    "getRules(tree, \"\", rules)\n",
    "pprint(sorted(rules))\n",
    "\n",
    "tup = {}\n",
    "for label in labels[:-1]:\n",
    "    tup[label] = input(label + \": \")\n",
    "\n",
    "print(predict(tree, tup))"
   ]
  },
  {
   "cell_type": "code",
   "execution_count": null,
   "metadata": {},
   "outputs": [],
   "source": []
  },
  {
   "cell_type": "code",
   "execution_count": null,
   "metadata": {},
   "outputs": [],
   "source": []
  },
  {
   "cell_type": "markdown",
   "metadata": {},
   "source": [
    "# 4. Backpropogation"
   ]
  },
  {
   "cell_type": "code",
   "execution_count": 47,
   "metadata": {},
   "outputs": [
    {
     "name": "stdout",
     "output_type": "stream",
     "text": [
      "input [[ 2.7810836   2.550537  ]\n",
      " [ 1.46548937  2.36212508]\n",
      " [ 3.39656169  4.40029353]\n",
      " [ 1.38807019  1.85022032]\n",
      " [ 3.06407232  3.00530597]\n",
      " [ 7.62753121  2.75926224]\n",
      " [ 5.33244125  2.08862677]\n",
      " [ 6.92259672  1.77106367]\n",
      " [ 8.67541865 -0.24206865]\n",
      " [ 7.67375647  3.50856301]]\n",
      "real output [[0.]\n",
      " [0.]\n",
      " [0.]\n",
      " [0.]\n",
      " [0.]\n",
      " [1.]\n",
      " [1.]\n",
      " [1.]\n",
      " [1.]\n",
      " [1.]]\n",
      "predicted output [[0.00732523]\n",
      " [0.00335737]\n",
      " [0.00292378]\n",
      " [0.00533202]\n",
      " [0.00458827]\n",
      " [0.99567861]\n",
      " [0.9937811 ]\n",
      " [0.99592774]\n",
      " [0.99600551]\n",
      " [0.99364218]]\n"
     ]
    }
   ],
   "source": [
    "import numpy as np\n",
    "import csv\n",
    "\n",
    "lines = csv.reader(open('Dataset4.csv'))\n",
    "x=list()\n",
    "y=list()\n",
    "for r in lines:\n",
    "    x.append([float(r[0]),float(r[1])])\n",
    "    y.append([float(r[2])])\n",
    "x=np.array(x)\n",
    "y=np.array(y)\n",
    "\n",
    "def derivative(x):\n",
    "    return x*(1-x)\n",
    "def sigmoid(x):\n",
    "    return 1/(1+np.exp(-x))\n",
    "lr=0.6\n",
    "on=1 #output neurons\n",
    "iln=2 #input layer neurons\n",
    "hln=3 #hidden layer neurons\n",
    "\n",
    "wh=np.random.uniform(size=(iln,hln)) #weight hidden\n",
    "bh=np.random.uniform(size=(1,hln)) #bias hidden\n",
    "wo=np.random.uniform(size=(hln,on)) #weight output\n",
    "bo=np.random.uniform(size=(1,on)) #bias output\n",
    "\n",
    "for i in range(7000):\n",
    "#forward propagation\n",
    "    net_h=np.dot(x,wh)+bh\n",
    "    sigma_h=sigmoid(net_h)\n",
    "    net_o=np.dot(sigma_h,wo)+bo\n",
    "    output=sigmoid(net_o)\n",
    "#backward propagation\n",
    "    deltaK=(y-output)*derivative(output)\n",
    "    deltaH=np.dot(deltaK,wo.T)*derivative(sigma_h)\n",
    "    wo+=np.dot(sigma_h.T,deltaK)*lr\n",
    "    wh+=np.dot(x.T,deltaH)*lr\n",
    "   \n",
    "   \n",
    "print(\"input\",str(x))\n",
    "print(\"real output\",str(y))\n",
    "print(\"predicted output\",output)"
   ]
  },
  {
   "cell_type": "code",
   "execution_count": null,
   "metadata": {},
   "outputs": [],
   "source": []
  },
  {
   "cell_type": "code",
   "execution_count": null,
   "metadata": {},
   "outputs": [],
   "source": []
  },
  {
   "cell_type": "markdown",
   "metadata": {},
   "source": [
    "# 5. Naive Bayes Classifier"
   ]
  },
  {
   "cell_type": "code",
   "execution_count": 12,
   "metadata": {},
   "outputs": [
    {
     "name": "stdout",
     "output_type": "stream",
     "text": [
      "Actual: 10.0   Predicted:  10.0\n",
      "Actual: 5.0   Predicted:  5.0\n",
      "Actual: 10.0   Predicted:  5.0\n",
      "Actual: 10.0   Predicted:  10.0\n",
      "Actual: 10.0   Predicted:  10.0\n",
      "Actual: 0.0   Predicted:  0.0\n",
      "Actual: 0.0   Predicted:  0.0\n",
      "Actual: 5.0   Predicted:  5.0\n",
      "Actual: 5.0   Predicted:  5.0\n",
      "Actual: 5.0   Predicted:  5.0\n",
      "Actual: 0.0   Predicted:  0.0\n",
      "Actual: 5.0   Predicted:  5.0\n",
      "Actual: 0.0   Predicted:  0.0\n",
      "Actual: 0.0   Predicted:  0.0\n",
      "Actual: 0.0   Predicted:  0.0\n",
      "Accuracy   0.9333333333333333\n"
     ]
    }
   ],
   "source": [
    "from csv import reader\n",
    "from pprint import pprint\n",
    "from random import shuffle, seed\n",
    "from math import exp, pi, sqrt\n",
    "from operator import itemgetter\n",
    "import numpy as np\n",
    "\n",
    "seed(2)\n",
    "data = np.array(list(reader(open('5-dataset-alt.csv'))), dtype='float')\n",
    "shuffle(data)\n",
    "trainLen = int(.9 * len(data))\n",
    "trainData, trainTarget = data[:trainLen, : -1], data[:trainLen, -1]\n",
    "testData, testTarget = data[trainLen:, : -1], data[trainLen:, -1]\n",
    "\n",
    "\n",
    "def safe_div(x, y):\n",
    "    return x / y if y != 0 else 0\n",
    "\n",
    "\n",
    "def getProbabilty(x, mean, std):\n",
    "    exponent = exp(-safe_div((x - mean) ** 2, 2 * std ** 2))\n",
    "    return safe_div(1, sqrt(2 * pi) * std) * exponent\n",
    "\n",
    "\n",
    "classes = {}\n",
    "for attrs, target in zip(trainData, trainTarget):\n",
    "    if target not in classes:\n",
    "        classes[target] = []\n",
    "    classes[target].append(attrs)\n",
    "\n",
    "summaries = {}\n",
    "for cls in classes.keys():\n",
    "    summaries[cls] = []\n",
    "    for column in zip(*classes[cls]):\n",
    "        summaries[cls].append((np.mean(column), np.std(column)))\n",
    "\n",
    "correct = 0\n",
    "for attrs, target in zip(testData, testTarget):\n",
    "    probabilty = {}\n",
    "    for cls in classes.keys():\n",
    "        probabilty[cls] = 1\n",
    "        for i, (mean, std) in enumerate(summaries[cls]):\n",
    "            probabilty[cls] *= getProbabilty(attrs[i], mean, std)\n",
    "\n",
    "    cls = sorted(probabilty.items(), key=itemgetter(1), reverse=True)[0][0]\n",
    "    print('Actual:', target,'  Predicted: ',cls)\n",
    "    if cls == target:\n",
    "        correct += 1\n",
    "\n",
    "print('Accuracy  ', correct/len(testData))"
   ]
  },
  {
   "cell_type": "code",
   "execution_count": 53,
   "metadata": {},
   "outputs": [
    {
     "name": "stdout",
     "output_type": "stream",
     "text": [
      "[1 1 2 2 1 2 1 2 0 2 2 1 0 2 2 0 1 2 2 2 1 1 2 1 2 1 0 2 1 0 0 0 1 0 0 1 1\n",
      " 1]\n",
      "[1 1 2 2 1 2 1 2 0 2 2 1 0 1 2 0 1 2 1 2 1 1 2 1 2 1 0 2 1 0 0 0 1 0 0 2 1\n",
      " 1]\n",
      "0.9210526315789473\n"
     ]
    }
   ],
   "source": [
    "import csv,random\n",
    "import numpy as np\n",
    "from sklearn.naive_bayes import GaussianNB\n",
    "from sklearn.model_selection import train_test_split\n",
    "from sklearn.datasets import load_iris\n",
    "from sklearn.metrics import accuracy_score\n",
    "\n",
    "iris=load_iris()\n",
    "train_data,test_data,train_target,test_target=train_test_split(iris.data,iris.target,test_size=0.25)\n",
    "\n",
    "gnb = GaussianNB()\n",
    "gnb.fit(train_data,train_target)\n",
    "\n",
    "p = gnb.predict(test_data)\n",
    "print(test_target)\n",
    "print(p)\n",
    "\n",
    "print(accuracy_score(test_target,p))"
   ]
  },
  {
   "cell_type": "code",
   "execution_count": null,
   "metadata": {},
   "outputs": [],
   "source": []
  },
  {
   "cell_type": "markdown",
   "metadata": {},
   "source": [
    "# 6. Naive Bayes Doc"
   ]
  },
  {
   "cell_type": "code",
   "execution_count": 13,
   "metadata": {},
   "outputs": [
    {
     "name": "stdout",
     "output_type": "stream",
     "text": [
      "Accuracy : \n",
      "0.8348868175765646\n",
      "Classification Report : \n",
      "                        precision    recall  f1-score   support\n",
      "\n",
      "           alt.atheism       0.97      0.60      0.74       319\n",
      "         comp.graphics       0.96      0.89      0.92       389\n",
      "               sci.med       0.97      0.81      0.88       396\n",
      "soc.religion.christian       0.65      0.99      0.78       398\n",
      "\n",
      "             micro avg       0.83      0.83      0.83      1502\n",
      "             macro avg       0.89      0.82      0.83      1502\n",
      "          weighted avg       0.88      0.83      0.84      1502\n",
      "\n",
      "Confusion Matrix : \n",
      "[[192   2   6 119]\n",
      " [  2 347   4  36]\n",
      " [  2  11 322  61]\n",
      " [  2   2   1 393]]\n"
     ]
    }
   ],
   "source": [
    "from sklearn.datasets import fetch_20newsgroups\n",
    "from sklearn.metrics import accuracy_score, classification_report, confusion_matrix\n",
    "from sklearn.feature_extraction.text import CountVectorizer, TfidfTransformer\n",
    "from sklearn.naive_bayes import MultinomialNB\n",
    "\n",
    "categories = ['alt.atheism', 'soc.religion.christian',\n",
    "              'comp.graphics', 'sci.med']\n",
    "\n",
    "train = fetch_20newsgroups(subset='train', categories=categories)\n",
    "test = fetch_20newsgroups(subset='test', categories=categories)\n",
    "\n",
    "c, t = CountVectorizer(), TfidfTransformer()\n",
    "\n",
    "trainTr = t.fit_transform(c.fit_transform(train.data))\n",
    "testTr = t.transform(c.transform(test.data))\n",
    "\n",
    "#print('training dataset:\\n',trainTr[0])\n",
    "\n",
    "model = MultinomialNB()\n",
    "model.fit(trainTr, train.target)\n",
    "predicted = model.predict(testTr)\n",
    "\n",
    "print('Accuracy : ', accuracy_score(test.target, predicted), sep='\\n')\n",
    "print('Classification Report : ', classification_report(\n",
    "    test.target, predicted, target_names=test.target_names), sep='\\n')\n",
    "print('Confusion Matrix : ', confusion_matrix(test.target, predicted), sep='\\n')"
   ]
  },
  {
   "cell_type": "code",
   "execution_count": null,
   "metadata": {},
   "outputs": [],
   "source": []
  },
  {
   "cell_type": "code",
   "execution_count": null,
   "metadata": {},
   "outputs": [],
   "source": []
  },
  {
   "cell_type": "markdown",
   "metadata": {},
   "source": [
    "# 7. Bayesian Network"
   ]
  },
  {
   "cell_type": "code",
   "execution_count": 5,
   "metadata": {},
   "outputs": [
    {
     "name": "stdout",
     "output_type": "stream",
     "text": [
      "2\n",
      "1\n",
      "1\n",
      "0\n",
      "1\n",
      "1\n",
      "Probability(HeartDisease) =  0.5\n"
     ]
    }
   ],
   "source": [
    "import bayespy as bp\n",
    "import numpy as np\n",
    "import csv\n",
    "\n",
    "import warnings\n",
    "warnings.filterwarnings(\"ignore\")\n",
    "\n",
    "a = {'SuperSeniorCitizen':0, 'SeniorCitizen':1, 'MiddleAged':2, 'Youth':3,'Teen':4}\n",
    "b = {'Male':0, 'Female':1}\n",
    "c = {'Yes':0, 'No':1}\n",
    "d = {'High':0, 'Medium':1, 'Low':2}\n",
    "e = {'Athlete':0, 'Active':1, 'Moderate':2, 'Sedetary':3}\n",
    "f = {'High':0, 'BorderLine':1, 'Normal':2}\n",
    "g = {'Yes':0, 'No':1}\n",
    "\n",
    "dataset = list(csv.reader(open('Dataset7.csv')))\n",
    "\n",
    "data = [ [ a[x[0]],b[x[1]],c[x[2]],d[x[3]],e[x[4]],f[x[5]],g[x[6]] ] for x in dataset]\n",
    "\n",
    "data = np.array(data)\n",
    "\n",
    "n = len(dataset)\n",
    "attr = [5,2,2,3,4,3]\n",
    "arr = ['?' for _ in range(6)]\n",
    "\n",
    "for i in range(6):\n",
    "    x = bp.nodes.Dirichlet(1.0*np.ones(attr[i]))\n",
    "    arr[i] = bp.nodes.Categorical(x , plates=(n,))\n",
    "    arr[i].observe(data[:,i])\n",
    "\n",
    "x = bp.nodes.Dirichlet(np.ones(2), plates=(5, 2, 2, 3, 4, 3))\n",
    "hd = bp.nodes.MultiMixture( arr , bp.nodes.Categorical, x)\n",
    "hd.observe(data[:,6])\n",
    "\n",
    "query = [int(input()) for i in range(6)]\n",
    "\n",
    "res = bp.nodes.MultiMixture(query, bp.nodes.Categorical, x).get_moments()[0][0]\n",
    "print(\"Probability(HeartDisease) = \" ,res)\n",
    "\n"
   ]
  },
  {
   "cell_type": "code",
   "execution_count": null,
   "metadata": {},
   "outputs": [],
   "source": []
  },
  {
   "cell_type": "code",
   "execution_count": null,
   "metadata": {},
   "outputs": [],
   "source": []
  },
  {
   "cell_type": "markdown",
   "metadata": {},
   "source": [
    "# 8. Kmeans"
   ]
  },
  {
   "cell_type": "code",
   "execution_count": 38,
   "metadata": {},
   "outputs": [
    {
     "name": "stdout",
     "output_type": "stream",
     "text": [
      "0.5528190123564091\n",
      "0.5011761635067201\n"
     ]
    },
    {
     "data": {
      "image/png": "[encoded data removed]",
      "text/plain": [
       "<Figure size 432x288 with 3 Axes>"
      ]
     },
     "metadata": {
      "needs_background": "light"
     },
     "output_type": "display_data"
    }
   ],
   "source": [
    "import numpy as np\n",
    "from sklearn.cluster import KMeans\n",
    "from sklearn.datasets import load_iris\n",
    "from sklearn.mixture import GaussianMixture\n",
    "from sklearn.metrics import silhouette_score\n",
    "import pylab as plt\n",
    "\n",
    "iris=load_iris()\n",
    "x,y=iris.data,iris.target\n",
    "\n",
    "k=KMeans(n_clusters=3)\n",
    "k.fit(x)\n",
    "kk=k.predict(x)\n",
    "\n",
    "gm=GaussianMixture(n_components=3)\n",
    "gm.fit(x)\n",
    "gk=gm.predict(x)\n",
    "\n",
    "print(silhouette_score(x,kk))\n",
    "print(silhouette_score(x,gk))\n",
    "\n",
    "#plotting\n",
    "colormap=np.array(['red','blue','black'])\n",
    "\n",
    "def plot(i,target,title):\n",
    "    plt.subplot(2,2,i)\n",
    "    plt.scatter(x[:,2],x[:,3],c=colormap[target])\n",
    "    plt.title(title)\n",
    "    plt.xlabel('petal length')\n",
    "    plt.ylabel('petal width')\n",
    "    \n",
    "plot(1,kk,'Kmeans')\n",
    "plot(2,gk,'GMixture')\n",
    "plot(3,y,'real')\n",
    "\n",
    "plt.show()"
   ]
  },
  {
   "cell_type": "code",
   "execution_count": null,
   "metadata": {},
   "outputs": [],
   "source": []
  },
  {
   "cell_type": "code",
   "execution_count": null,
   "metadata": {},
   "outputs": [],
   "source": []
  },
  {
   "cell_type": "markdown",
   "metadata": {},
   "source": [
    "# 9. KNN"
   ]
  },
  {
   "cell_type": "code",
   "execution_count": 21,
   "metadata": {
    "scrolled": true
   },
   "outputs": [
    {
     "name": "stdout",
     "output_type": "stream",
     "text": [
      "Accuracy: 0.9210526315789473\n",
      "Test data:\n",
      "[1 0 2 0 1 1 2 0 0 1 1 1 2 1 0 2 1 2 0 0 0 0 1 2 2 2 2 0 0 0 2 2 1 2 0 0 1\n",
      " 2]\n",
      "Predicted data:\n",
      "[1 0 2 0 1 1 2 0 0 1 1 1 1 1 0 2 1 1 0 0 0 0 1 2 2 2 2 0 0 0 2 1 1 2 0 0 1\n",
      " 2]\n"
     ]
    }
   ],
   "source": [
    "from sklearn.datasets import load_iris\n",
    "from sklearn.neighbors import KNeighborsClassifier\n",
    "from sklearn.model_selection import train_test_split\n",
    "\n",
    "iris=load_iris()\n",
    "X_train,X_test,Y_train,Y_test=train_test_split(iris.data,iris.target,test_size=.25)\n",
    "\n",
    "clf=KNeighborsClassifier()\n",
    "clf.fit(X_train,Y_train)\n",
    "\n",
    "print(\"Accuracy:\",clf.score(X_test,Y_test))\n",
    "\n",
    "print('Test data:')\n",
    "print(Y_test)\n",
    "print('Predicted data:')\n",
    "print(clf.predict(X_test))"
   ]
  },
  {
   "cell_type": "code",
   "execution_count": null,
   "metadata": {},
   "outputs": [],
   "source": []
  },
  {
   "cell_type": "code",
   "execution_count": null,
   "metadata": {},
   "outputs": [],
   "source": []
  },
  {
   "cell_type": "markdown",
   "metadata": {},
   "source": [
    "# 10. Locally Weighted regression"
   ]
  },
  {
   "cell_type": "code",
   "execution_count": 30,
   "metadata": {},
   "outputs": [
    {
     "data": {
      "image/png": "[encoded data removed]",
      "text/plain": [
       "<Figure size 432x288 with 1 Axes>"
      ]
     },
     "metadata": {
      "needs_background": "light"
     },
     "output_type": "display_data"
    }
   ],
   "source": [
    "import numpy as np\n",
    "import pylab as pl\n",
    "from scipy import linalg\n",
    "\n",
    "def lowess(x,y):\n",
    "    n=len(x)\n",
    "    yest=np.zeros(n)\n",
    "    w=np.array([np.exp( -((x-x[i])**2)/(2*0.4*0.4)) for i in range(n)])\n",
    "    for i in range(n):\n",
    "        weights=w[:,i]\n",
    "        b=np.array([np.sum(weights*y),np.sum(weights*y*x)])\n",
    "        A=np.array([[np.sum(weights),np.sum(weights*x)],[np.sum(weights*x),np.sum(weights*x*x)]])\n",
    "        theta=linalg.solve(A,b)\n",
    "        yest[i]=theta[0]+theta[1]*x[i]\n",
    "    return yest\n",
    "    \n",
    "    \n",
    "    \n",
    "    \n",
    "x=np.linspace(0,2*3.14,100)\n",
    "y=np.sin(x)+0.3*np.random.randn(100)\n",
    "\n",
    "yest=lowess(x,y)\n",
    "\n",
    "pl.clf()\n",
    "pl.plot(x,y,label='y noisy')\n",
    "pl.plot(x,yest,label='y pred')\n",
    "pl.legend()\n",
    "pl.show()"
   ]
  },
  {
   "cell_type": "code",
   "execution_count": null,
   "metadata": {},
   "outputs": [],
   "source": []
  }
 ],
 "metadata": {
  "kernelspec": {
   "display_name": "Python 3",
   "language": "python",
   "name": "python3"
  },
  "language_info": {
   "codemirror_mode": {
    "name": "ipython",
    "version": 3
   },
   "file_extension": ".py",
   "mimetype": "text/x-python",
   "name": "python",
   "nbconvert_exporter": "python",
   "pygments_lexer": "ipython3",
   "version": "3.7.3"
  }
 },
 "nbformat": 4,
 "nbformat_minor": 2
}
