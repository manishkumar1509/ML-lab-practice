{
 "cells": [
  {
   "cell_type": "markdown",
   "metadata": {},
   "source": [
    "# 1. FIND-s"
   ]
  },
  {
   "cell_type": "code",
   "execution_count": 9,
   "metadata": {},
   "outputs": [
    {
     "name": "stdout",
     "output_type": "stream",
     "text": [
      "['Japan', 'Honda', 'Blue', '“1980”', 'Economy']\n",
      "['Japan', '?', '?', '?', 'Economy']\n"
     ]
    }
   ],
   "source": [
    "import csv\n",
    "lines=csv.reader(open(\"D1.csv\",encoding=\"utf8\"))\n",
    "\n",
    "data=list()\n",
    "\n",
    "for row in lines:\n",
    "    if(row[-1]=='Y'):\n",
    "        data.append(row)\n",
    "\n",
    "numrows=len(data)\n",
    "numcols=len(data[0])-1\n",
    "hypothesis= ['%' for _ in range(numcols)]\n",
    "\n",
    "for j in range(numcols):\n",
    "    hypothesis[j]=data[0][j]\n",
    "print(hypothesis)\n",
    "\n",
    "for i in range(numrows):\n",
    "    for j in range(numcols):\n",
    "        if(hypothesis[j]!=data[i][j]):\n",
    "            hypothesis[j]='?'\n",
    "print(hypothesis)\n",
    "        "
   ]
  },
  {
   "cell_type": "code",
   "execution_count": null,
   "metadata": {},
   "outputs": [],
   "source": []
  },
  {
   "cell_type": "code",
   "execution_count": null,
   "metadata": {},
   "outputs": [],
   "source": []
  },
  {
   "cell_type": "markdown",
   "metadata": {},
   "source": [
    "# 2. Candidate Elimination"
   ]
  },
  {
   "cell_type": "code",
   "execution_count": 10,
   "metadata": {},
   "outputs": [
    {
     "name": "stdout",
     "output_type": "stream",
     "text": [
      "['Japan' '?' '?' '?' 'Economy']\n",
      "[['Japan', '?', '?', '?', '?']]\n"
     ]
    }
   ],
   "source": [
    "import pandas as pd\n",
    "import numpy as np\n",
    "data=pd.DataFrame(pd.read_csv('D1.csv'))\n",
    "\n",
    "features=np.array(data.iloc[:,0:-1])\n",
    "target=np.array(data.iloc[:,-1])\n",
    "\n",
    "specific=features[0].copy()\n",
    "generic=[['?' for i in range(len(specific))] for i in range(len(specific))]\n",
    "#print(generic)\n",
    "\n",
    "for i,h in enumerate(features):\n",
    "    if target[i]=='Y':\n",
    "        for x in range(len(specific)):\n",
    "            if h[x]!=specific[x]:\n",
    "                specific[x]='?'\n",
    "                generic[x][x]='?'\n",
    "    \n",
    "    elif target[i]=='N':\n",
    "        for x in range(len(specific)):\n",
    "            if h[x]!=specific[x]:\n",
    "                generic[x][x]=specific[x]\n",
    "            else:\n",
    "                generic[x][x]='?'\n",
    "\n",
    "for i in range(4):      \n",
    "    generic.remove(['?','?','?','?','?'])\n",
    "\n",
    "print(specific)\n",
    "print(generic)"
   ]
  },
  {
   "cell_type": "code",
   "execution_count": null,
   "metadata": {},
   "outputs": [],
   "source": []
  },
  {
   "cell_type": "code",
   "execution_count": null,
   "metadata": {},
   "outputs": [],
   "source": []
  },
  {
   "cell_type": "markdown",
   "metadata": {},
   "source": [
    "# 3. ID3"
   ]
  },
  {
   "cell_type": "code",
   "execution_count": 5,
   "metadata": {},
   "outputs": [
    {
     "name": "stdout",
     "output_type": "stream",
     "text": [
      "['Outlook=Overcast => Y',\n",
      " 'Outlook=Rain ^ Wind=F => Y',\n",
      " 'Outlook=Rain ^ Wind=T => N',\n",
      " 'Outlook=Sunny ^ Humidity=High => N',\n",
      " 'Outlook=Sunny ^ Humidity=Normal => Y']\n",
      "Outlook: Rain\n",
      "Temperature: Cold\n",
      "Humidity: High\n",
      "Wind: F\n",
      "Y\n"
     ]
    }
   ],
   "source": [
    "import numpy as np\n",
    "from csv import reader\n",
    "from math import log2\n",
    "from collections import Counter\n",
    "from pprint import pprint\n",
    "\n",
    "YES, NO = \"Y\", \"N\"\n",
    "\n",
    "\n",
    "class Node:\n",
    "    def __init__(self, label):\n",
    "        self.label = label\n",
    "        self.branches = {}\n",
    "\n",
    "\n",
    "def entropy(data):\n",
    "    total, positive, negative = len(\n",
    "        data), (data[:, -1] == YES).sum(), (data[:, -1] == NO).sum()\n",
    "    entropy = 0\n",
    "    if positive:\n",
    "        entropy -= positive / total * log2(positive / total)\n",
    "    if negative:\n",
    "        entropy -= negative / total * log2(negative / total)\n",
    "    return entropy\n",
    "\n",
    "\n",
    "def gain(s, data, column):\n",
    "    values = set(data[:, column])\n",
    "    gain = s\n",
    "    for value in values:\n",
    "        sub = data[data[:, column] == value]\n",
    "        gain -= len(sub) / len(data) * entropy(sub)\n",
    "    return gain\n",
    "\n",
    "\n",
    "def bestAttribute(data):\n",
    "    s = entropy(data)\n",
    "    g = [gain(s, data, column) for column in range(len(data[0]) - 1)]\n",
    "    return g.index(max(g))\n",
    "\n",
    "\n",
    "def id3(data, labels):\n",
    "    root = Node('Null')\n",
    "    if entropy(data) == 0:\n",
    "        root.label = data[0, -1]\n",
    "    elif len(data[0]) == 1:\n",
    "        root.label = Counter(data[:, -1]).most_common()[0][0]\n",
    "    else:\n",
    "        column = bestAttribute(data)\n",
    "        root.label = labels[column]\n",
    "        values = set(data[:, column])\n",
    "        for value in values:\n",
    "            nData = np.delete(\n",
    "                data[data[:, column] == value], column, axis=1)\n",
    "            nLabels = np.delete(labels, column)\n",
    "            root.branches[value] = id3(nData, nLabels)\n",
    "    return root\n",
    "\n",
    "\n",
    "def getRules(root, rule, rules):\n",
    "    if not root.branches:\n",
    "        rules.append(rule[:-2] + \"=> \" + root.label)\n",
    "    for value, nRoot in root.branches.items():\n",
    "        getRules(nRoot, rule + root.label + \"=\" + value + \" ^ \", rules)\n",
    "\n",
    "\n",
    "def predict(tree, tup):\n",
    "    if not tree.branches:\n",
    "        return tree.label\n",
    "    return predict(tree.branches[tup[tree.label]], tup)\n",
    "\n",
    "\n",
    "labels = np.array(['Outlook', 'Temperature', 'Humidity', 'Wind', 'PlayTennis'])\n",
    "\n",
    "with open('3-dataset.csv') as f:\n",
    "    data = np.array(list(reader(f)))\n",
    "\n",
    "tree = id3(data, labels)\n",
    "rules = []\n",
    "getRules(tree, \"\", rules)\n",
    "pprint(sorted(rules))\n",
    "\n",
    "tup = {}\n",
    "for label in labels[:-1]:\n",
    "    tup[label] = input(label + \": \")\n",
    "\n",
    "print(predict(tree, tup))"
   ]
  },
  {
   "cell_type": "code",
   "execution_count": null,
   "metadata": {},
   "outputs": [],
   "source": []
  },
  {
   "cell_type": "code",
   "execution_count": null,
   "metadata": {},
   "outputs": [],
   "source": []
  },
  {
   "cell_type": "markdown",
   "metadata": {},
   "source": [
    "# 4. Backpropogation"
   ]
  },
  {
   "cell_type": "code",
   "execution_count": 23,
   "metadata": {},
   "outputs": [
    {
     "name": "stdout",
     "output_type": "stream",
     "text": [
      "[[ 2.7810836   2.550537  ]\n",
      " [ 1.46548937  2.36212508]\n",
      " [ 3.39656169  4.40029353]\n",
      " [ 1.38807019  1.85022032]\n",
      " [ 3.06407232  3.00530597]\n",
      " [ 7.62753121  2.75926224]\n",
      " [ 5.33244125  2.08862677]\n",
      " [ 6.92259672  1.77106367]\n",
      " [ 8.67541865 -0.24206865]\n",
      " [ 7.67375647  3.50856301]]\n",
      "[[0.]\n",
      " [0.]\n",
      " [0.]\n",
      " [0.]\n",
      " [0.]\n",
      " [1.]\n",
      " [1.]\n",
      " [1.]\n",
      " [1.]\n",
      " [1.]]\n",
      "Input: \n",
      "[[ 2.7810836   2.550537  ]\n",
      " [ 1.46548937  2.36212508]\n",
      " [ 3.39656169  4.40029353]\n",
      " [ 1.38807019  1.85022032]\n",
      " [ 3.06407232  3.00530597]\n",
      " [ 7.62753121  2.75926224]\n",
      " [ 5.33244125  2.08862677]\n",
      " [ 6.92259672  1.77106367]\n",
      " [ 8.67541865 -0.24206865]\n",
      " [ 7.67375647  3.50856301]]\n",
      "Actual Output: \n",
      "[[0.]\n",
      " [0.]\n",
      " [0.]\n",
      " [0.]\n",
      " [0.]\n",
      " [1.]\n",
      " [1.]\n",
      " [1.]\n",
      " [1.]\n",
      " [1.]]\n",
      "Predicted Output: \n",
      " [[0.00974388]\n",
      " [0.00625972]\n",
      " [0.00535725]\n",
      " [0.00834702]\n",
      " [0.00729148]\n",
      " [0.99454224]\n",
      " [0.99212145]\n",
      " [0.9948532 ]\n",
      " [0.99499862]\n",
      " [0.99252086]]\n"
     ]
    }
   ],
   "source": [
    "import numpy as np\n",
    "\n",
    "lines = csv.reader(open('Dataset4.csv'))\n",
    "X=list()\n",
    "y=list()\n",
    "for r in lines:\n",
    "    l1=list()\n",
    "    l1.append(float(r[0]))\n",
    "    l1.append(float(r[1]))\n",
    "    l2=list()\n",
    "    l2.append(float(r[2]))\n",
    "    X.append(l1)\n",
    "    y.append(l2)\n",
    "X=np.array(X)\n",
    "y=np.array(y)\n",
    "\n",
    "print(X)\n",
    "print(y)\n",
    "\n",
    "#Sigmoid Function\n",
    "def sigmoid(x): #this function maps any value between 0 and 1\n",
    "    return 1/(1 + np.exp(-x))\n",
    "\n",
    "#Derivative of Sigmoid Function\n",
    "def derivatives_sigmoid(x):\n",
    "    return x * (1 - x)\n",
    "\n",
    "#Variable initialization\n",
    "epoch=10000 #Setting training iterations\n",
    "lr=0.3 #Setting learning rate\n",
    "inputlayer_neurons = 2 #number of features in data set\n",
    "hiddenlayer_neurons = 3 #number of hidden layers neurons\n",
    "output_neurons = 1 #number of neurons of output layer\n",
    "\n",
    "#weight and bias initialization\n",
    "wh=np.random.uniform(size=(inputlayer_neurons,hiddenlayer_neurons))\n",
    "bias_hidden=np.random.uniform(size=(1,hiddenlayer_neurons)) #bias matrix to the hidden layer\n",
    "weight_hidden=np.random.uniform(size=(hiddenlayer_neurons,output_neurons)) #weight matrix to the output layer\n",
    "bias_output=np.random.uniform(size=(1,output_neurons)) # matrix to the output layer\n",
    "\n",
    "for i in range(epoch):\n",
    "    #Forward Propogation\n",
    "    hinp1=np.dot(X,wh)\n",
    "    hinp= hinp1 + bias_hidden #bias_hidden GRADIENT DISCENT\n",
    "    hlayer_activation = sigmoid(hinp)\n",
    "    \n",
    "    outinp1=np.dot(hlayer_activation,weight_hidden)\n",
    "    outinp= outinp1+ bias_output\n",
    "    output = sigmoid(outinp)\n",
    "    \n",
    "    #Backpropagation\n",
    "    EO = y-output #Compare prediction with actual output and calculate the gradient of error (Actual – Predicted)\n",
    "\n",
    "    outgrad = derivatives_sigmoid(output) #Compute the slope/ gradient of hidden and output layer neurons\n",
    "\n",
    "    d_output = EO * outgrad #Compute change factor(delta) at output layer, dependent on the gradient of error multiplied by the slope of output layer activation\n",
    "\n",
    "    EH = d_output.dot(weight_hidden.T)  #At this step, the error will propagate back into the network which means error at hidden layer. we will take the dot product of output layer delta with weight parameters of edges between the hidden and output layer (weight_hidden.T).\n",
    "\n",
    "    hiddengrad = derivatives_sigmoid(hlayer_activation) #how much hidden layer weight contributed to error\n",
    "    d_hiddenlayer = EH * hiddengrad\n",
    "\n",
    "\n",
    "    #update the weights\n",
    "    weight_hidden += hlayer_activation.T.dot(d_output) *lr# dot product of nextlayererror and currentlayerop\n",
    "    bias_hidden += np.sum(d_hiddenlayer, axis=0,keepdims=True) *lr\n",
    "\n",
    "    wh += X.T.dot(d_hiddenlayer) *lr\n",
    "    bias_output += np.sum(d_output, axis=0,keepdims=True) *lr\n",
    "\n",
    "print(\"Input: \\n\" + str(X))\n",
    "print(\"Actual Output: \\n\" + str(y))\n",
    "print(\"Predicted Output: \\n\" ,output)"
   ]
  },
  {
   "cell_type": "code",
   "execution_count": null,
   "metadata": {},
   "outputs": [],
   "source": []
  },
  {
   "cell_type": "code",
   "execution_count": null,
   "metadata": {},
   "outputs": [],
   "source": []
  },
  {
   "cell_type": "markdown",
   "metadata": {},
   "source": [
    "# 5. Naive Bayes Classifier"
   ]
  },
  {
   "cell_type": "code",
   "execution_count": 12,
   "metadata": {},
   "outputs": [
    {
     "name": "stdout",
     "output_type": "stream",
     "text": [
      "Actual: 10.0   Predicted:  10.0\n",
      "Actual: 5.0   Predicted:  5.0\n",
      "Actual: 10.0   Predicted:  5.0\n",
      "Actual: 10.0   Predicted:  10.0\n",
      "Actual: 10.0   Predicted:  10.0\n",
      "Actual: 0.0   Predicted:  0.0\n",
      "Actual: 0.0   Predicted:  0.0\n",
      "Actual: 5.0   Predicted:  5.0\n",
      "Actual: 5.0   Predicted:  5.0\n",
      "Actual: 5.0   Predicted:  5.0\n",
      "Actual: 0.0   Predicted:  0.0\n",
      "Actual: 5.0   Predicted:  5.0\n",
      "Actual: 0.0   Predicted:  0.0\n",
      "Actual: 0.0   Predicted:  0.0\n",
      "Actual: 0.0   Predicted:  0.0\n",
      "Accuracy   0.9333333333333333\n"
     ]
    }
   ],
   "source": [
    "from csv import reader\n",
    "from pprint import pprint\n",
    "from random import shuffle, seed\n",
    "from math import exp, pi, sqrt\n",
    "from operator import itemgetter\n",
    "import numpy as np\n",
    "\n",
    "seed(2)\n",
    "data = np.array(list(reader(open('5-dataset-alt.csv'))), dtype='float')\n",
    "shuffle(data)\n",
    "trainLen = int(.9 * len(data))\n",
    "trainData, trainTarget = data[:trainLen, : -1], data[:trainLen, -1]\n",
    "testData, testTarget = data[trainLen:, : -1], data[trainLen:, -1]\n",
    "\n",
    "\n",
    "def safe_div(x, y):\n",
    "    return x / y if y != 0 else 0\n",
    "\n",
    "\n",
    "def getProbabilty(x, mean, std):\n",
    "    exponent = exp(-safe_div((x - mean) ** 2, 2 * std ** 2))\n",
    "    return safe_div(1, sqrt(2 * pi) * std) * exponent\n",
    "\n",
    "\n",
    "classes = {}\n",
    "for attrs, target in zip(trainData, trainTarget):\n",
    "    if target not in classes:\n",
    "        classes[target] = []\n",
    "    classes[target].append(attrs)\n",
    "\n",
    "summaries = {}\n",
    "for cls in classes.keys():\n",
    "    summaries[cls] = []\n",
    "    for column in zip(*classes[cls]):\n",
    "        summaries[cls].append((np.mean(column), np.std(column)))\n",
    "\n",
    "correct = 0\n",
    "for attrs, target in zip(testData, testTarget):\n",
    "    probabilty = {}\n",
    "    for cls in classes.keys():\n",
    "        probabilty[cls] = 1\n",
    "        for i, (mean, std) in enumerate(summaries[cls]):\n",
    "            probabilty[cls] *= getProbabilty(attrs[i], mean, std)\n",
    "\n",
    "    cls = sorted(probabilty.items(), key=itemgetter(1), reverse=True)[0][0]\n",
    "    print('Actual:', target,'  Predicted: ',cls)\n",
    "    if cls == target:\n",
    "        correct += 1\n",
    "\n",
    "print('Accuracy  ', correct/len(testData))"
   ]
  },
  {
   "cell_type": "code",
   "execution_count": null,
   "metadata": {},
   "outputs": [],
   "source": []
  },
  {
   "cell_type": "code",
   "execution_count": null,
   "metadata": {},
   "outputs": [],
   "source": []
  },
  {
   "cell_type": "markdown",
   "metadata": {},
   "source": [
    "# 6. Naive Bayes Doc"
   ]
  },
  {
   "cell_type": "code",
   "execution_count": 13,
   "metadata": {},
   "outputs": [
    {
     "name": "stdout",
     "output_type": "stream",
     "text": [
      "Accuracy : \n",
      "0.8348868175765646\n",
      "Classification Report : \n",
      "                        precision    recall  f1-score   support\n",
      "\n",
      "           alt.atheism       0.97      0.60      0.74       319\n",
      "         comp.graphics       0.96      0.89      0.92       389\n",
      "               sci.med       0.97      0.81      0.88       396\n",
      "soc.religion.christian       0.65      0.99      0.78       398\n",
      "\n",
      "             micro avg       0.83      0.83      0.83      1502\n",
      "             macro avg       0.89      0.82      0.83      1502\n",
      "          weighted avg       0.88      0.83      0.84      1502\n",
      "\n",
      "Confusion Matrix : \n",
      "[[192   2   6 119]\n",
      " [  2 347   4  36]\n",
      " [  2  11 322  61]\n",
      " [  2   2   1 393]]\n"
     ]
    }
   ],
   "source": [
    "from sklearn.datasets import fetch_20newsgroups\n",
    "from sklearn.metrics import accuracy_score, classification_report, confusion_matrix\n",
    "from sklearn.feature_extraction.text import CountVectorizer, TfidfTransformer\n",
    "from sklearn.naive_bayes import MultinomialNB\n",
    "\n",
    "categories = ['alt.atheism', 'soc.religion.christian',\n",
    "              'comp.graphics', 'sci.med']\n",
    "\n",
    "train = fetch_20newsgroups(subset='train', categories=categories)\n",
    "test = fetch_20newsgroups(subset='test', categories=categories)\n",
    "\n",
    "c, t = CountVectorizer(), TfidfTransformer()\n",
    "\n",
    "trainTr = t.fit_transform(c.fit_transform(train.data))\n",
    "testTr = t.transform(c.transform(test.data))\n",
    "\n",
    "#print('training dataset:\\n',trainTr[0])\n",
    "\n",
    "model = MultinomialNB()\n",
    "model.fit(trainTr, train.target)\n",
    "predicted = model.predict(testTr)\n",
    "\n",
    "print('Accuracy : ', accuracy_score(test.target, predicted), sep='\\n')\n",
    "print('Classification Report : ', classification_report(\n",
    "    test.target, predicted, target_names=test.target_names), sep='\\n')\n",
    "print('Confusion Matrix : ', confusion_matrix(test.target, predicted), sep='\\n')"
   ]
  },
  {
   "cell_type": "code",
   "execution_count": null,
   "metadata": {},
   "outputs": [],
   "source": []
  },
  {
   "cell_type": "code",
   "execution_count": null,
   "metadata": {},
   "outputs": [],
   "source": []
  },
  {
   "cell_type": "markdown",
   "metadata": {},
   "source": [
    "# 7. Bayesian Network"
   ]
  },
  {
   "cell_type": "code",
   "execution_count": 14,
   "metadata": {},
   "outputs": [
    {
     "ename": "ModuleNotFoundError",
     "evalue": "No module named 'torch'",
     "output_type": "error",
     "traceback": [
      "\u001b[1;31m---------------------------------------------------------------------------\u001b[0m",
      "\u001b[1;31mModuleNotFoundError\u001b[0m                       Traceback (most recent call last)",
      "\u001b[1;32m<ipython-input-14-c5bfb87325eb>\u001b[0m in \u001b[0;36m<module>\u001b[1;34m\u001b[0m\n\u001b[0;32m      4\u001b[0m \u001b[1;31m#print(heart_disease)\u001b[0m\u001b[1;33m\u001b[0m\u001b[1;33m\u001b[0m\u001b[1;33m\u001b[0m\u001b[0m\n\u001b[0;32m      5\u001b[0m \u001b[1;33m\u001b[0m\u001b[0m\n\u001b[1;32m----> 6\u001b[1;33m \u001b[1;32mfrom\u001b[0m \u001b[0mpgmpy\u001b[0m\u001b[1;33m.\u001b[0m\u001b[0mmodels\u001b[0m \u001b[1;32mimport\u001b[0m \u001b[0mBayesianModel\u001b[0m\u001b[1;33m\u001b[0m\u001b[1;33m\u001b[0m\u001b[0m\n\u001b[0m\u001b[0;32m      7\u001b[0m model=BayesianModel([\n\u001b[0;32m      8\u001b[0m \u001b[1;33m(\u001b[0m\u001b[1;34m'age'\u001b[0m\u001b[1;33m,\u001b[0m\u001b[1;34m'Lifestyle'\u001b[0m\u001b[1;33m)\u001b[0m\u001b[1;33m,\u001b[0m\u001b[1;33m\u001b[0m\u001b[1;33m\u001b[0m\u001b[0m\n",
      "\u001b[1;32mc:\\users\\vik\\appdata\\local\\programs\\python\\python37-32\\lib\\site-packages\\pgmpy\\__init__.py\u001b[0m in \u001b[0;36m<module>\u001b[1;34m\u001b[0m\n\u001b[1;32m----> 1\u001b[1;33m \u001b[1;32mfrom\u001b[0m \u001b[1;33m.\u001b[0m\u001b[0mglobal_vars\u001b[0m \u001b[1;32mimport\u001b[0m \u001b[0mHAS_PANDAS\u001b[0m\u001b[1;33m,\u001b[0m \u001b[0mdevice\u001b[0m\u001b[1;33m\u001b[0m\u001b[1;33m\u001b[0m\u001b[0m\n\u001b[0m\u001b[0;32m      2\u001b[0m \u001b[1;33m\u001b[0m\u001b[0m\n\u001b[0;32m      3\u001b[0m \u001b[0m__all__\u001b[0m \u001b[1;33m=\u001b[0m \u001b[1;33m[\u001b[0m\u001b[1;34m\"HAS_PANDAS\"\u001b[0m\u001b[1;33m,\u001b[0m \u001b[1;34m\"device\"\u001b[0m\u001b[1;33m]\u001b[0m\u001b[1;33m\u001b[0m\u001b[1;33m\u001b[0m\u001b[0m\n\u001b[0;32m      4\u001b[0m \u001b[0m__version__\u001b[0m \u001b[1;33m=\u001b[0m \u001b[1;34m\"v0.1.9\"\u001b[0m\u001b[1;33m\u001b[0m\u001b[1;33m\u001b[0m\u001b[0m\n",
      "\u001b[1;32mc:\\users\\vik\\appdata\\local\\programs\\python\\python37-32\\lib\\site-packages\\pgmpy\\global_vars.py\u001b[0m in \u001b[0;36m<module>\u001b[1;34m\u001b[0m\n\u001b[0;32m      1\u001b[0m \u001b[1;31m# TODO: This variables being set in this file should move to setup.py\u001b[0m\u001b[1;33m\u001b[0m\u001b[1;33m\u001b[0m\u001b[1;33m\u001b[0m\u001b[0m\n\u001b[0;32m      2\u001b[0m \u001b[1;33m\u001b[0m\u001b[0m\n\u001b[1;32m----> 3\u001b[1;33m \u001b[1;32mimport\u001b[0m \u001b[0mtorch\u001b[0m\u001b[1;33m\u001b[0m\u001b[1;33m\u001b[0m\u001b[0m\n\u001b[0m\u001b[0;32m      4\u001b[0m \u001b[1;33m\u001b[0m\u001b[0m\n\u001b[0;32m      5\u001b[0m \u001b[1;33m\u001b[0m\u001b[0m\n",
      "\u001b[1;31mModuleNotFoundError\u001b[0m: No module named 'torch'"
     ]
    }
   ],
   "source": [
    "import pandas as pd\n",
    "data=pd.read_csv(\"heart77.csv\")\n",
    "heart_disease=pd.DataFrame(data)\n",
    "#print(heart_disease)\n",
    "\n",
    "from pgmpy.models import BayesianModel\n",
    "model=BayesianModel([\n",
    "('age','Lifestyle'),\n",
    "('Gender','Lifestyle'),\n",
    "('Family','heartdisease'),\n",
    "('diet','cholestrol'),\n",
    "('Lifestyle','diet'),\n",
    "('cholestrol','heartdisease'),\n",
    "('diet','cholestrol')\n",
    "])\n",
    "\n",
    "from pgmpy.estimators import MaximumLikelihoodEstimator\n",
    "model.fit(heart_disease, estimator=MaximumLikelihoodEstimator)\n",
    "\n",
    "\n",
    "from pgmpy.inference import VariableElimination\n",
    "HeartDisease_infer = VariableElimination(model)\n",
    "\n",
    "print('For age enter SuperSeniorCitizen:0, SeniorCitizen:1, MiddleAged:2, Youth:3, Teen:4')\n",
    "print('For Gender Enter Male:0, Female:1')\n",
    "print('For Family History Enter yes:1, No:0')\n",
    "print('For diet Enter High:0, Medium:1')\n",
    "print('for lifeStyle Enter Athlete:0, Active:1, Moderate:2, Sedentary:3')\n",
    "print('for cholesterol Enter High:0, BorderLine:1, Normal:2')\n",
    "\n",
    "q = HeartDisease_infer.query(variables=['heartdisease'], evidence={\n",
    "    'age':int(input('enter age')),\n",
    "    'Gender':int(input('enter Gender')),\n",
    "    'Family':int(input('enter Family history')),\n",
    "    'diet':int(input('enter diet')),\n",
    "    'Lifestyle':int(input('enter Lifestyle')),\n",
    "    'cholestrol':int(input('enter cholestrol'))\n",
    "    })\n",
    "\n",
    "print(q['heartdisease'])"
   ]
  },
  {
   "cell_type": "code",
   "execution_count": null,
   "metadata": {},
   "outputs": [],
   "source": []
  },
  {
   "cell_type": "code",
   "execution_count": null,
   "metadata": {},
   "outputs": [],
   "source": []
  },
  {
   "cell_type": "markdown",
   "metadata": {},
   "source": [
    "# 8. Kmeans"
   ]
  },
  {
   "cell_type": "code",
   "execution_count": 20,
   "metadata": {},
   "outputs": [
    {
     "name": "stdout",
     "output_type": "stream",
     "text": [
      "0.5528190123564091\n",
      "0.5011761635067201\n"
     ]
    },
    {
     "data": {
      "image/png": "[encoded data removed]",
      "text/plain": [
       "<Figure size 432x288 with 3 Axes>"
      ]
     },
     "metadata": {
      "needs_background": "light"
     },
     "output_type": "display_data"
    }
   ],
   "source": [
    "import numpy as np\n",
    "from sklearn.cluster import KMeans\n",
    "from sklearn.datasets import load_iris\n",
    "from sklearn.mixture import GaussianMixture\n",
    "from sklearn.metrics import silhouette_score\n",
    "import pylab as plt\n",
    "\n",
    "iris=load_iris()\n",
    "x,y=iris.data,iris.target\n",
    "\n",
    "k=KMeans(n_clusters=3)\n",
    "k.fit(x)\n",
    "kk=k.predict(x)\n",
    "\n",
    "gm=GaussianMixture(n_components=3)\n",
    "gm.fit(x)\n",
    "gk=gm.predict(x)\n",
    "\n",
    "print(silhouette_score(x,kk))\n",
    "print(silhouette_score(x,gk))\n",
    "\n",
    "#plotting\n",
    "colormap=np.array(['red','blue','black'])\n",
    "\n",
    "def plot(i,target,title):\n",
    "    plt.subplot(2,2,i)\n",
    "    plt.scatter(x[:,2],x[:,3],c=colormap[target])\n",
    "    plt.title(title)\n",
    "    plt.xlabel('petal length')\n",
    "    plt.ylabel('petal width')\n",
    "    \n",
    "plot(1,kk,'Kmeans')\n",
    "plot(2,gk,'GMixture')\n",
    "plot(3,y,'real')\n",
    "\n",
    "plt.show()"
   ]
  },
  {
   "cell_type": "code",
   "execution_count": null,
   "metadata": {},
   "outputs": [],
   "source": []
  },
  {
   "cell_type": "code",
   "execution_count": null,
   "metadata": {},
   "outputs": [],
   "source": []
  },
  {
   "cell_type": "markdown",
   "metadata": {},
   "source": [
    "# 9. KNN"
   ]
  },
  {
   "cell_type": "code",
   "execution_count": 21,
   "metadata": {
    "scrolled": true
   },
   "outputs": [
    {
     "name": "stdout",
     "output_type": "stream",
     "text": [
      "Accuracy: 0.9210526315789473\n",
      "Test data:\n",
      "[1 0 2 0 1 1 2 0 0 1 1 1 2 1 0 2 1 2 0 0 0 0 1 2 2 2 2 0 0 0 2 2 1 2 0 0 1\n",
      " 2]\n",
      "Predicted data:\n",
      "[1 0 2 0 1 1 2 0 0 1 1 1 1 1 0 2 1 1 0 0 0 0 1 2 2 2 2 0 0 0 2 1 1 2 0 0 1\n",
      " 2]\n"
     ]
    }
   ],
   "source": [
    "from sklearn.datasets import load_iris\n",
    "from sklearn.neighbors import KNeighborsClassifier\n",
    "from sklearn.model_selection import train_test_split\n",
    "\n",
    "iris=load_iris()\n",
    "X_train,X_test,Y_train,Y_test=train_test_split(iris.data,iris.target,test_size=.25)\n",
    "\n",
    "clf=KNeighborsClassifier()\n",
    "clf.fit(X_train,Y_train)\n",
    "\n",
    "print(\"Accuracy:\",clf.score(X_test,Y_test))\n",
    "\n",
    "print('Test data:')\n",
    "print(Y_test)\n",
    "print('Predicted data:')\n",
    "print(clf.predict(X_test))"
   ]
  },
  {
   "cell_type": "code",
   "execution_count": null,
   "metadata": {},
   "outputs": [],
   "source": []
  },
  {
   "cell_type": "code",
   "execution_count": null,
   "metadata": {},
   "outputs": [],
   "source": []
  },
  {
   "cell_type": "markdown",
   "metadata": {},
   "source": [
    "# 10. Locally Weighted regression"
   ]
  },
  {
   "cell_type": "code",
   "execution_count": 22,
   "metadata": {},
   "outputs": [
    {
     "name": "stdout",
     "output_type": "stream",
     "text": [
      "==========================values of x=====================\n",
      "[0.         0.06346652 0.12693304 0.19039955 0.25386607 0.31733259\n",
      " 0.38079911 0.44426563 0.50773215 0.57119866 0.63466518 0.6981317\n",
      " 0.76159822 0.82506474 0.88853126 0.95199777 1.01546429 1.07893081\n",
      " 1.14239733 1.20586385 1.26933037 1.33279688 1.3962634  1.45972992\n",
      " 1.52319644 1.58666296 1.65012947 1.71359599 1.77706251 1.84052903\n",
      " 1.90399555 1.96746207 2.03092858 2.0943951  2.15786162 2.22132814\n",
      " 2.28479466 2.34826118 2.41172769 2.47519421 2.53866073 2.60212725\n",
      " 2.66559377 2.72906028 2.7925268  2.85599332 2.91945984 2.98292636\n",
      " 3.04639288 3.10985939 3.17332591 3.23679243 3.30025895 3.36372547\n",
      " 3.42719199 3.4906585  3.55412502 3.61759154 3.68105806 3.74452458\n",
      " 3.8079911  3.87145761 3.93492413 3.99839065 4.06185717 4.12532369\n",
      " 4.1887902  4.25225672 4.31572324 4.37918976 4.44265628 4.5061228\n",
      " 4.56958931 4.63305583 4.69652235 4.75998887 4.82345539 4.88692191\n",
      " 4.95038842 5.01385494 5.07732146 5.14078798 5.2042545  5.26772102\n",
      " 5.33118753 5.39465405 5.45812057 5.52158709 5.58505361 5.64852012\n",
      " 5.71198664 5.77545316 5.83891968 5.9023862  5.96585272 6.02931923\n",
      " 6.09278575 6.15625227 6.21971879 6.28318531]\n",
      "================================Values of y===================\n",
      "[ 0.73438837 -0.07225173  0.42941305  0.13048587  0.28722271  0.50021066\n",
      "  0.6884686   0.30542815  0.38209546  0.78868263  1.0340772   0.60949425\n",
      "  1.09141289  0.57729716  0.3324332   0.97961484  0.8426674   0.72194709\n",
      "  1.18338125  1.18784628  1.68464185  1.13410031  1.35122309  0.80377226\n",
      "  0.85608512  1.46249383  0.78693921  0.7716611   1.36991398  1.01539939\n",
      "  0.63460257  0.88721278  0.10820342  0.81226003  0.83500872  0.46711044\n",
      "  1.08655105 -0.0700628   0.6301125   0.44267914  0.61586289  0.17237717\n",
      "  0.24423351 -0.1620539   0.18558737 -0.20569445  0.63160296  0.07636283\n",
      "  0.24482763  0.46230391 -0.1696019  -0.04617482 -0.09727765 -0.21028131\n",
      " -0.38477115  0.02482762 -0.03423893 -0.95238838 -0.85483532 -0.7849711\n",
      " -0.00344574 -0.65030891 -0.6493017  -0.40948723  0.02360606 -0.46133872\n",
      " -1.60742516 -1.03002703 -1.03307806 -1.28254699 -0.52220395 -0.67314942\n",
      " -1.10603192 -0.80156418 -0.64370175 -0.63611724 -0.44954266 -1.4095104\n",
      " -0.87027015 -0.65517842 -0.78923256 -0.91572721 -0.92203931 -0.73898765\n",
      " -0.58788176 -1.03509361 -0.49469855 -0.76710843 -0.67718105 -1.24841204\n",
      "  0.0208183  -0.61936076 -0.84957893 -0.18896327 -0.14987635 -0.32200101\n",
      " -0.13162647 -0.36708385 -0.61020564 -0.76059875]\n"
     ]
    },
    {
     "data": {
      "image/png": "[encoded data removed]",
      "text/plain": [
       "<Figure size 432x288 with 1 Axes>"
      ]
     },
     "metadata": {
      "needs_background": "light"
     },
     "output_type": "display_data"
    }
   ],
   "source": [
    "from math import ceil\n",
    "import numpy as np\n",
    "from scipy import linalg\n",
    "\n",
    "\n",
    "def lowess(x, y, f=2./3., iter=3):\n",
    "    n = len(x)\n",
    "    r = int(ceil(f*n))\n",
    "    h = [np.sort(np.abs(x - x[i]))[r] for i in range(n)]\n",
    "    w = np.clip(np.abs((x[:,None] - x[None,:]) / h), 0.0, 1.0)\n",
    "    w = (1 - w**3)**3\n",
    "    yest = np.zeros(n)\n",
    "    delta = np.ones(n)\n",
    "    for iteration in range(iter):\n",
    "        for i in range(n):\n",
    "            weights = delta * w[:,i]\n",
    "            b = np.array([np.sum(weights*y), np.sum(weights*y*x)])\n",
    "            A = np.array([[np.sum(weights), np.sum(weights*x)],\n",
    "                   [np.sum(weights*x), np.sum(weights*x*x)]])\n",
    "            beta = linalg.solve(A, b)\n",
    "            yest[i] = beta[0] + beta[1]*x[i]\n",
    "\n",
    "        residuals = y - yest\n",
    "        s = np.median(np.abs(residuals))\n",
    "        delta = np.clip(residuals / (6.0 * s), -1, 1)\n",
    "        delta = (1 - delta**2)**2\n",
    "\n",
    "    return yest\n",
    "\n",
    "if __name__ == '__main__':\n",
    "    import math\n",
    "    n = 100\n",
    "    x = np.linspace(0, 2 * math.pi, n)\n",
    "    print(\"==========================values of x=====================\")\n",
    "    print(x)\n",
    "    y = np.sin(x) + 0.3*np.random.randn(n)\n",
    "    print(\"================================Values of y===================\")\n",
    "    print(y)\n",
    "    f = 0.25\n",
    "    yest = lowess(x, y, f=f, iter=3)\n",
    "\n",
    "    import pylab as pl\n",
    "    pl.clf()\n",
    "    pl.plot(x, y, label='y noisy')\n",
    "    pl.plot(x, yest, label='y pred')\n",
    "    pl.legend()\n",
    "    pl.show()"
   ]
  },
  {
   "cell_type": "code",
   "execution_count": null,
   "metadata": {},
   "outputs": [],
   "source": []
  }
 ],
 "metadata": {
  "kernelspec": {
   "display_name": "Python 3",
   "language": "python",
   "name": "python3"
  },
  "language_info": {
   "codemirror_mode": {
    "name": "ipython",
    "version": 3
   },
   "file_extension": ".py",
   "mimetype": "text/x-python",
   "name": "python",
   "nbconvert_exporter": "python",
   "pygments_lexer": "ipython3",
   "version": "3.7.3"
  }
 },
 "nbformat": 4,
 "nbformat_minor": 2
}
